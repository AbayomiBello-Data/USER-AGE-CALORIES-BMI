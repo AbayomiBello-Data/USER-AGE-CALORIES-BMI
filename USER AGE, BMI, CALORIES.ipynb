{
 "cells": [
  {
   "cell_type": "code",
   "execution_count": 7,
   "id": "a4cc37c5",
   "metadata": {},
   "outputs": [
    {
     "name": "stdout",
     "output_type": "stream",
     "text": [
      "Please enter your date of birth (dd mm yyyy)\n",
      "--->26 01 1995\n",
      "You are 13674960 minutes and 820497600 seconds old!\n",
      "Your lifetime heartbeat is:  984570163.1999999 BPM\n",
      "You have expended 52000 calories if you are a woman\n",
      "You have expended 65000 calories if you are a man\n"
     ]
    }
   ],
   "source": [
    "## CALCULATING THE USER'S AGE IN MINUTES AND SECONDS\n",
    "from datetime import datetime, date\n",
    "print(\"Please enter your date of birth (dd mm yyyy)\")\n",
    "date_of_birth = datetime.strptime(input(\"--->\"), \"%d %m %Y\")\n",
    "\n",
    "\n",
    "\n",
    "def calculateAge(birthDate):  \n",
    "    today = date.today()\n",
    "    age = today.year - birthDate.year - ((today.month, today.day) < (birthDate.month, birthDate.day))\n",
    "    \n",
    "    return age\n",
    "\n",
    "final_age = calculateAge(date_of_birth)\n",
    "\n",
    "print(\"You are\",final_age * 525960, \"minutes\",\"and\", final_age * 31557600, \"seconds old!\")\n",
    "\n",
    "\n",
    "##NUMBER OF TIMES A USER HEART HAS BEATEN IN HIS LIFE TIME\n",
    "heart_rate_per_min = 72\n",
    "years = 365.24 * 24 * 60\n",
    "\n",
    "heartbeat_in_lifetime = final_age * heart_rate_per_min * years\n",
    "print(\"Your lifetime heartbeat is: \",heartbeat_in_lifetime,\"BPM\")\n",
    "\n",
    "\n",
    "##NUMBER OF CALORIES THE USER HAS EXPENDED IN HIS/ HER LIFE TIME \n",
    "##2000 calories for women and 2500 calories for men according to NHS\n",
    "number_of_calories_women = final_age * 2000\n",
    "number_of_calories_men = final_age * 2500\n",
    "print(\"You have expended\", final_age * 2000, \"calories if you are a woman\")\n",
    "print(\"You have expended\", final_age * 2500, \"calories if you are a man\")\n",
    "\n"
   ]
  },
  {
   "cell_type": "code",
   "execution_count": 8,
   "id": "4ad9f316",
   "metadata": {},
   "outputs": [
    {
     "name": "stdout",
     "output_type": "stream",
     "text": [
      "Enter height in meters: 10\n",
      "Enter weight in kg: 20\n",
      "Your BMI is 0.2\n"
     ]
    }
   ],
   "source": [
    "height = float(input(\"Enter height in meters: \"))\n",
    "weight = float(input(\"Enter weight in kg: \"))\n",
    "\n",
    "# the formula for calculating bmi\n",
    "## weight/(height**2) \n",
    "# ** is the power of operator i.e height*height in this case\n",
    "print(\"Your BMI is\", weight/(height**2))\n"
   ]
  },
  {
   "cell_type": "code",
   "execution_count": 9,
   "id": "673a764c",
   "metadata": {},
   "outputs": [
    {
     "name": "stdout",
     "output_type": "stream",
     "text": [
      "Writing user_data.text\n"
     ]
    }
   ],
   "source": [
    "%%writefile user_data.text\n",
    "You are 13674960 minutes and 820497600 seconds old!\n",
    "Your lifetime heartbeat is:  984570163.1999999 BPM\n",
    "You have expended 52000 calories if you are a woman\n",
    "You have expended 65000 calories if you are a man\n",
    "Your BMI is 0.2"
   ]
  },
  {
   "cell_type": "code",
   "execution_count": null,
   "id": "3c47389c",
   "metadata": {},
   "outputs": [],
   "source": []
  },
  {
   "cell_type": "code",
   "execution_count": null,
   "id": "2e0b884e",
   "metadata": {},
   "outputs": [],
   "source": []
  }
 ],
 "metadata": {
  "kernelspec": {
   "display_name": "Python 3",
   "language": "python",
   "name": "python3"
  },
  "language_info": {
   "codemirror_mode": {
    "name": "ipython",
    "version": 3
   },
   "file_extension": ".py",
   "mimetype": "text/x-python",
   "name": "python",
   "nbconvert_exporter": "python",
   "pygments_lexer": "ipython3",
   "version": "3.8.8"
  }
 },
 "nbformat": 4,
 "nbformat_minor": 5
}
